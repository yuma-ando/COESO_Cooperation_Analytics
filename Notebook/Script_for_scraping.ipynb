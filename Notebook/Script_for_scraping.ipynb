{
 "cells": [
  {
   "cell_type": "code",
   "execution_count": null,
   "metadata": {
    "id": "O6GezsK3ibv7",
    "scrolled": false
   },
   "outputs": [],
   "source": [
    "!pip install newspaper3k\n",
    "import newspaper\n",
    "import nltk\n",
    "nltk.download('punkt')\n",
    "from newspaper import Article"
   ]
  },
  {
   "cell_type": "code",
   "execution_count": null,
   "metadata": {
    "id": "Sv9GSKGri-yU"
   },
   "outputs": [],
   "source": [
    "#Define article's URL from hypoteses.blog\n",
    "url = \"Put_link_here\"\n",
    "\n",
    "#For different language newspaper refer above table\n",
    "coeso_article = Article(url, language=\"pt\") # en for English"
   ]
  },
  {
   "cell_type": "code",
   "execution_count": null,
   "metadata": {
    "id": "HsCgsU2KjlRK",
    "scrolled": true
   },
   "outputs": [],
   "source": [
    "#Download the article\n",
    "coeso_article.download()\n",
    "\n",
    "#Parse the article\n",
    "coeso_article.parse()"
   ]
  },
  {
   "cell_type": "code",
   "execution_count": null,
   "metadata": {
    "colab": {
     "base_uri": "https://localhost:8080/"
    },
    "id": "q8qhl4aNjxrn",
    "outputId": "8caad879-d482-4da5-a154-d3e6dc624a98"
   },
   "outputs": [],
   "source": [
    "#Perform nlp\n",
    "coeso_article.nlp()\n",
    "\n",
    "#Extract title\n",
    "print(\"Article's Title:\")\n",
    "print(coeso_article.title)\n",
    "print(\"n\")\n",
    "\n",
    "#Extract text\n",
    "print(\"Article's Text:\")\n",
    "print(coeso_article.text)\n",
    "print(\"n\")\n",
    "\n",
    "#Extract summary\n",
    "print(\"Article's Summary:\")\n",
    "print(coeso_article.summary)\n",
    "print(\"n\")\n",
    "\n",
    "#Extract keywords\n",
    "print(\"Article's Keywords:\")\n",
    "print(coeso_article.keywords)"
   ]
  },
  {
   "cell_type": "code",
   "execution_count": null,
   "metadata": {
    "id": "_QiJwwH5o_ri"
   },
   "outputs": [],
   "source": [
    "file = open(\"output1.txt\", \"w\")\n",
    "file.write(str(coeso_article.text))\n",
    "file.close()"
   ]
  },
  {
   "cell_type": "code",
   "execution_count": null,
   "metadata": {
    "id": "dAfNGiMQks2v"
   },
   "outputs": [],
   "source": [
    "# Define list of urls\n",
    "list_of_urls = ['URL1',\n",
    "                \"URL2\"]\n",
    "\n",
    "# Parse through each url and display its content\n",
    "for url in list_of_urls:\n",
    "    url_i = newspaper.Article(url=\"%s\" % (url), language='fr')\n",
    "    url_i.download()\n",
    "    url_i.parse()\n",
    "    print(url_i.text)"
   ]
  },
  {
   "cell_type": "code",
   "execution_count": null,
   "metadata": {
    "id": "LSD4bNLqk8hM"
   },
   "outputs": [],
   "source": [
    "#Perform nlp\n",
    "url_i.nlp()\n",
    "\n",
    "#Extract summary\n",
    "print(\"Article's Summary:\")\n",
    "print(url_i.summary)\n",
    "print(\"n\")\n",
    "\n",
    "#Extract keywords\n",
    "print(\"Article's Keywords:\")\n",
    "print(url_i.keywords)"
   ]
  },
  {
   "cell_type": "code",
   "execution_count": null,
   "metadata": {
    "id": "zUDzRTZTqRbz"
   },
   "outputs": [],
   "source": [
    "file = open(\"output2.txt\", \"w\")\n",
    "file.write(str(url_i.text))\n",
    "file.close()"
   ]
  }
 ],
 "metadata": {
  "colab": {
   "provenance": []
  },
  "kernelspec": {
   "display_name": "Python 3 (ipykernel)",
   "language": "python",
   "name": "python3"
  },
  "language_info": {
   "codemirror_mode": {
    "name": "ipython",
    "version": 3
   },
   "file_extension": ".py",
   "mimetype": "text/x-python",
   "name": "python",
   "nbconvert_exporter": "python",
   "pygments_lexer": "ipython3",
   "version": "3.10.0"
  },
  "toc": {
   "base_numbering": 1,
   "nav_menu": {},
   "number_sections": true,
   "sideBar": true,
   "skip_h1_title": false,
   "title_cell": "Table of Contents",
   "title_sidebar": "Contents",
   "toc_cell": false,
   "toc_position": {},
   "toc_section_display": true,
   "toc_window_display": false
  }
 },
 "nbformat": 4,
 "nbformat_minor": 1
}
