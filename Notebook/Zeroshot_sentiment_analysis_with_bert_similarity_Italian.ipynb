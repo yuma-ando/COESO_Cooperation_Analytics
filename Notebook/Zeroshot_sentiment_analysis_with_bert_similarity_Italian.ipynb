{
 "cells": [
  {
   "cell_type": "markdown",
   "id": "be698377",
   "metadata": {
    "id": "be698377"
   },
   "source": [
    "# Semantic Text Similarity"
   ]
  },
  {
   "cell_type": "code",
   "execution_count": null,
   "id": "72d2b968",
   "metadata": {
    "colab": {
     "base_uri": "https://localhost:8080/",
     "height": 316
    },
    "id": "72d2b968",
    "outputId": "c1991e16-3468-4c96-959b-c3d630defb65"
   },
   "outputs": [],
   "source": [
    "from sentence_transformers import SentenceTransformer"
   ]
  },
  {
   "cell_type": "code",
   "execution_count": null,
   "id": "7c48ae71",
   "metadata": {
    "id": "7c48ae71"
   },
   "outputs": [],
   "source": [
    "from sklearn.metrics.pairwise import cosine_similarity\n"
   ]
  },
  {
   "cell_type": "code",
   "execution_count": null,
   "id": "d8012c14",
   "metadata": {
    "id": "d8012c14"
   },
   "outputs": [],
   "source": [
    "import pandas as pd\n",
    "import numpy as np\n"
   ]
  },
  {
   "cell_type": "code",
   "execution_count": null,
   "id": "2830f730",
   "metadata": {
    "id": "2830f730"
   },
   "outputs": [],
   "source": [
    "import pandas as pd\n",
    "import re\n",
    "data = open(\"text_file_here.txt\",\"r\",encoding='UTF-8').readlines()\n",
    "data=''.join(data).replace(\"\\n\",\"\")\n",
    "dd=re.split(r'\\.|\\!', data.replace('?',\"?.\").replace(\"!\",\"!.\"))\n",
    "data = [x.strip() for x in dd if x !='']\n",
    "df = pd.DataFrame({\n",
    "    \"text\":data\n",
    "})\n",
    "df.label=\"\""
   ]
  },
  {
   "cell_type": "code",
   "execution_count": null,
   "id": "1e4343f3",
   "metadata": {
    "id": "1e4343f3"
   },
   "outputs": [],
   "source": [
    "d= dict()\n",
    "d[\"inspiration\"]=['inspiration','unspeakable and ethereal','weird','unusual','marvellous','unspeakable','disturbing','exciting','spontaneous','emotional','concern for creation','love','passion','create','the enlightened','mind','fairy','shadow','freak','I','child','women','mad','artist','the waking dream','body','dream','unconscious','dope','escape from habits','question','risk','detour','the universal value of singularity','independent','genius','the alchemy of unexpected encounters','discover','to research','imagine','dream','explode','TO DO','the reality of the imaginary','imaginary','unconscious','uses','proprieties','adventure','quest','mental journey','lived experience','illumination','intuition','almost appear','vertigo','surpass oneself','masterpiece','hover','will have','fantasy','the certainty of intuition','symbol','signs']\n",
    "d[\"domestic\"]=['generation','hierarchy','tradition','hierarchical superiority','caring','well-mannered','easy','distinct','discreet','reserve','trustworthy','franc','faithful','ease of habit','fold','common sense','natural','character','the superiors and the inferiors','father','king','ascendants','parents','family','person','boss','chief','child','women','foreign','Single','I','Me','dog','cat','others','visitor','surroundings','neighbors','third','the rules of good manners','good manners','propriety','rank','title','remains','presentation','signature','announcement','gifts','flowers','rejection of selfishness','helpfulness','duty (and she)','harmony','respect and responsibility','authority','subordination','respectability','honor','shame','the trade of well-mannered people','reproduce','give birth','educate','invite','give','receive','render','recommend','thank','respect','the soul of the home','family','environment','principle','party','birth','death','marriage','worldliness','conversation','distinction','nomination','enjoy','congratulate','admonitions','report','the exemplary anecdote','give an example','prejudice']\n",
    "d['project'] = [\"projects\", \"network expansion\", \"proliferation of links\", \"to coordinate\", \"to adjust to others\", \"engaged\", \"engaging\", \"enthusiastic\", \"involved\", \"flexible\", \"adaptable\", \"scalable\", \"employable\", \"autonomous\", \"project manager\", \"coach\", \"expert\", \"supplier\", \"innovator\", \"connection tools\", \"new technologies\", \"informal relationships\", \"trust relationships\", \"partnership\", \"outsourcing\", \"business networks\", \"network companies\", \"synapse\", \"authoritarian\", \"rigid\", \"network shutdown\", \"redistribution of connections\", \"insert into networks\", \"provide employability\", \"the end of a project\", \"the start of another project\", \"to be called upon to participate\", \"to involve\", \"to reject\", \"need to be linked\", \"network\"]\n",
    "d['industrial']=['efficiency','performance','coming','functional','efficient','reliable','operational','energy','work','professionals','experts','specialists','responsible','operator','tools','resources','method','stain','space','environment','axis','direction','criteria','definition','list','chart','plan','calendar','plan','objective','quantity','variable','series','mean','probability','nun','factor','cause','progress','investment','sympathy','detachment','mastery','function','implement','gear linkages','be a function of','cog','need','to condition','necessary relationship','to integrate','arrange','control','stabilize','to expect','implant','adapted','detect','analyze','take into account','determine','highlight','measure','formalize','standardization','to optimise','solve','to treat','organization','system','test','launch','getting started','Implementation','achievement','effective','correct','in working order','functioning','measure']\n",
    "d['market'] =['competition','rivalry','competition','desirable','salable','value','millionaire','winner','hated','unsuitable','random','interest','desire','selfishness','competitors','business man','seller','customer','Buyer','self employed','richness','luxury items','opportunism','freedom','opening','pay attention to others','dynamic','emotional distance','take a step back','possess','to interest','buy','produce','sell','to be in business with','negotiate','benefit','monetize','pay','compete','market','affair','case settled','in the bag','bargain','price','justified value','reasonable value','true value','money','profit','result','retribution']\n",
    "d['civic']=['the pre-eminence of collectives','collective','all','general will','regulatory and representative','unitary','legal','regulatory','official','representative','allowed','incumbent','free','the aspiration to civil rights','civil rights','political aspirations','participation','public authorities','left','federation','section','desk','committee','elected','representing','delegate','secretary','member','right','legislation','decree','arrangement','measure','courts','formality','procedure','protocol of agreement','exemption','electoral capacity','coded','criteria','riding','electoral list','program','orientation','statement','attach','brochure','newsletter','leaflet','slogan','seat','permanence','local','acronym','map','solidarity','exceed','to renouncer','struggle','delegation reports','membership','representation','delegation','translate aspirations','unify','mobilize','gather','exclude','join','rally','make a call','discuss','speak','inform','codify','legalize','empower','go to court','the democratic republic','Republic','state','democracy','base','electorate','representative institutions','parliament','assembly','Congress','advice','meeting','session','movement','manifest the presence','dispute','appeal','justice','the verdict of the ballot','rumor','noise','fashion','coast','resounding','vote','election','consultation','mobilization','measure audience','law','legal rules','statutes']\n",
    "d['opinion']=['the reality of opinion','others','General public','Fame','famous','recognized','visible','hit','be successful','stand out','persuasive','catchy','the desire to be recognized','self-esteem','consideration','desire to','stars and supporters','a personality','opinion leader','spokesperson','relay','journalist','Press officer','names in the media','brand','message','transmitter','receiver','campaign','public relations','press','interview','communicated','support','brochure','mailing','badge','audio-visual','atmosphere','decor','reconcentration to secrecy','reveal','to be recognized','identify','identification','strength','persuasion','influence','convince','to raise awareness','hang','seduce','drill','capture','throw','issue','circulate','propagate','discuss','speak up','promote','orient','amplify','talk about','to quote','public image','audience','target','positioning','the presentation of the event','expression','press conference','imagination','open door','evidence of success','known','repercussion','reduce to','cause','rally to','awareness']\n"
   ]
  },
  {
   "cell_type": "code",
   "execution_count": null,
   "id": "875f6683",
   "metadata": {
    "id": "875f6683"
   },
   "outputs": [],
   "source": [
    "sentences = d[\"inspiration\"]\n",
    "sentences = [\" \".join(sentences)]\n",
    "for x in df.text:\n",
    "    sentences.append(x)\n"
   ]
  },
  {
   "cell_type": "code",
   "execution_count": null,
   "id": "e20954c9",
   "metadata": {
    "id": "e20954c9"
   },
   "outputs": [],
   "source": [
    "sentences"
   ]
  },
  {
   "cell_type": "code",
   "execution_count": null,
   "id": "cef9da4c",
   "metadata": {
    "id": "cef9da4c"
   },
   "outputs": [],
   "source": [
    "## From the data\n",
    "model = SentenceTransformer('sentence-transformers/stsb-mpnet-base-v2')\n",
    "sentence_embeddings = model.encode(sentences)\n",
    "sim =cosine_similarity(\n",
    "    [sentence_embeddings[0]],\n",
    "    sentence_embeddings[1:]\n",
    ")\n"
   ]
  },
  {
   "cell_type": "code",
   "execution_count": null,
   "id": "5b1f0077",
   "metadata": {
    "id": "5b1f0077"
   },
   "outputs": [],
   "source": [
    "df['Inspiration']=sim.tolist()[0]\n",
    "df"
   ]
  },
  {
   "cell_type": "code",
   "execution_count": null,
   "id": "16fc0926",
   "metadata": {
    "id": "16fc0926"
   },
   "outputs": [],
   "source": [
    "for k, i in d.items():\n",
    "    print(k)\n",
    "    sentences = i\n",
    "    sentences = [\" \".join(sentences)]\n",
    "    for x in df.text:\n",
    "        sentences.append(x)\n",
    "    ## From the data\n",
    "    sentence_embeddings = model.encode(sentences)\n",
    "    sim =cosine_similarity(\n",
    "        [sentence_embeddings[0]],\n",
    "        sentence_embeddings[1:]\n",
    "    )\n",
    "    df[k]=sim.tolist()[0]\n"
   ]
  },
  {
   "cell_type": "code",
   "execution_count": null,
   "id": "f69b8b18",
   "metadata": {
    "id": "f69b8b18"
   },
   "outputs": [],
   "source": [
    "df"
   ]
  },
  {
   "cell_type": "code",
   "execution_count": null,
   "id": "474df6b4",
   "metadata": {
    "id": "474df6b4"
   },
   "outputs": [],
   "source": [
    "from transformers import pipeline\n",
    "classifier = pipeline(\"zero-shot-classification\", model=\"facebook/bart-large-mnli\")\n",
    "\n",
    "# Creating a function to call the ZSTC iteratively for all rows\n",
    "def zeroshot_multi(dataset, labels):\n",
    "    \"\"\"\n",
    "    This function takes in a dataset with a text column and the corresponding support labels of the standardized label.\n",
    "    The Zero-Shot Topic Classification algorithm will determine a confidence score for each support label.\n",
    "    The corresponding confidence score given by the model will be added as a new column to the original dataset.\n",
    "    \"\"\"\n",
    "    result = []\n",
    "    all_dic = []\n",
    "    for i in dataset[\"text\"]:\n",
    "        result.append(classifier(i, labels, multi_label=True))\n",
    "    for j in range(len(result)):\n",
    "        dic = {result[j][\"labels\"][i]: result[j]['scores'][i] for i in range(len(result[j]['scores']))}\n",
    "        sorted_tuples = sorted(dic.items(), key=lambda item: item[1], reverse=True)\n",
    "        all_dic.append(dict(sorted_tuples))\n",
    "    return pd.concat([dataset, pd.DataFrame(all_dic)], axis=1)\n",
    "\n",
    "# Creating a function to call the ZSTC iteratively for all rows\n",
    "def zeroshot(dataset, labels):\n",
    "    \"\"\"\n",
    "    This function takes in a dataset with a text column and the corresponding support labels of the standardized label.\n",
    "    The Zero-Shot Topic Classification algorithm will determine a confidence score for each support label.\n",
    "    The corresponding confidence score given by the model will be added as a new column to the original dataset.\n",
    "    \"\"\"\n",
    "    result = []\n",
    "    all_dic = []\n",
    "    for i in dataset[\"text\"]:\n",
    "        result.append(classifier(i, labels, multi_label=False))\n",
    "    for j in range(len(result)):\n",
    "        dic = {result[j][\"labels\"][i]: result[j]['scores'][i] for i in range(len(result[j]['scores']))}\n",
    "        sorted_tuples = sorted(dic.items(), key=lambda item: item[1], reverse=True)\n",
    "        all_dic.append(dict(sorted_tuples))\n",
    "    return pd.concat([dataset, pd.DataFrame(all_dic)], axis=1)\n"
   ]
  },
  {
   "cell_type": "code",
   "execution_count": null,
   "id": "52f3e40b",
   "metadata": {
    "id": "52f3e40b"
   },
   "outputs": [],
   "source": [
    "# apply the zero shot topic classification algorithm\n",
    "labels = [\"agree\",\"disagree\",\"neutral\"]\n",
    "df2 = zeroshot(df, labels)\n",
    "df2"
   ]
  },
  {
   "cell_type": "code",
   "execution_count": null,
   "id": "78137227",
   "metadata": {
    "id": "78137227"
   },
   "outputs": [],
   "source": [
    "df2.to_excel('output_zeroshot_sentiment_analysis_with_sentence_transformer_similarity.xlsx')"
   ]
  }
 ],
 "metadata": {
  "colab": {
   "provenance": []
  },
  "kernelspec": {
   "display_name": "Python 3 (ipykernel)",
   "language": "python",
   "name": "python3"
  },
  "language_info": {
   "codemirror_mode": {
    "name": "ipython",
    "version": 3
   },
   "file_extension": ".py",
   "mimetype": "text/x-python",
   "name": "python",
   "nbconvert_exporter": "python",
   "pygments_lexer": "ipython3",
   "version": "3.10.0"
  },
  "toc": {
   "base_numbering": 1,
   "nav_menu": {},
   "number_sections": true,
   "sideBar": true,
   "skip_h1_title": false,
   "title_cell": "Table of Contents",
   "title_sidebar": "Contents",
   "toc_cell": false,
   "toc_position": {},
   "toc_section_display": true,
   "toc_window_display": false
  }
 },
 "nbformat": 4,
 "nbformat_minor": 5
}
